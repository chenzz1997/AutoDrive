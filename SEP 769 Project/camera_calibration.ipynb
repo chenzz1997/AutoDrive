{
 "cells": [
  {
   "cell_type": "code",
   "execution_count": 13,
   "id": "008d4317-910c-4c02-b5f4-fba577021b7a",
   "metadata": {},
   "outputs": [
    {
     "name": "stdout",
     "output_type": "stream",
     "text": [
      "(240, 320, 3)\n"
     ]
    }
   ],
   "source": [
    "import cv2\n",
    "\n",
    "image = cv2.imread(\"calibration.jpg\")\n",
    "print(image.shape)"
   ]
  },
  {
   "cell_type": "code",
   "execution_count": 1,
   "id": "f425ac93-23a4-414b-b7ec-330b950203c5",
   "metadata": {},
   "outputs": [
    {
     "name": "stdout",
     "output_type": "stream",
     "text": [
      "Selected point: (133, 103)\n",
      "Selected point: (198, 104)\n",
      "Selected point: (225, 144)\n",
      "Selected point: (106, 142)\n",
      "All points selected. Press 'q' to exit.\n",
      "Final points: [(133, 103), (198, 104), (225, 144), (106, 142)]\n"
     ]
    }
   ],
   "source": [
    "import cv2\n",
    "\n",
    "# 全局变量保存四个点的坐标\n",
    "points = []\n",
    "\n",
    "# 鼠标回调函数：点击左键记录坐标\n",
    "def mouse_callback(event, x, y, flags, param):\n",
    "    global points\n",
    "    if event == cv2.EVENT_LBUTTONDOWN:\n",
    "        points.append((x, y))\n",
    "        print(f\"Selected point: ({x}, {y})\")\n",
    "        if len(points) == 4:\n",
    "            print(\"All points selected. Press 'q' to exit.\")\n",
    "\n",
    "# 读取图像并显示\n",
    "image = cv2.imread(\"calibration.jpg\")\n",
    "cv2.namedWindow(\"Select Points\", cv2.WINDOW_NORMAL)\n",
    "cv2.resizeWindow(\"Select Points\", 640, 480)\n",
    "cv2.setMouseCallback(\"Select Points\", mouse_callback)\n",
    "\n",
    "while True:\n",
    "    img_display = image.copy()\n",
    "    # 绘制已选点\n",
    "    for p in points:\n",
    "        cv2.circle(img_display, p, 5, (0, 0, 255), -1)\n",
    "    cv2.imshow(\"Select Points\", img_display)\n",
    "    key = cv2.waitKey(1) & 0xFF\n",
    "    if key == ord('q') or len(points) >= 4:\n",
    "        break\n",
    "\n",
    "cv2.destroyAllWindows()\n",
    "print(\"Final points:\", points)"
   ]
  },
  {
   "cell_type": "code",
   "execution_count": 5,
   "id": "d8192799-314c-4acb-abc8-503ff21fd996",
   "metadata": {},
   "outputs": [
    {
     "name": "stdout",
     "output_type": "stream",
     "text": [
      "[[-1.04096457e+00 -3.06287902e+00  3.45767492e+02]\n",
      " [ 7.70800805e-02 -5.01020523e+00  5.05722408e+02]\n",
      " [ 4.53853096e-04 -1.91340013e-02  1.00000000e+00]]\n"
     ]
    }
   ],
   "source": [
    "import cv2\n",
    "import numpy as np\n",
    "\n",
    "# 读取矫正图像\n",
    "image = cv2.imread(\"calibration.jpg\")\n",
    "h, w = image.shape[:2]\n",
    "\n",
    "# 定义原始图像的四个角点（需手动标注或通过算法检测）\n",
    "src_points = np.float32([[134, 103], [199, 104], [226, 144], [106, 143]])\n",
    "\n",
    "# 定义鸟瞰图中的目标位置（通常为矩形）\n",
    "dst_points = np.float32([\n",
    "    [w/2-40, h-240],          # 左上角\n",
    "    [w/2+40, h-240],          # 右上角\n",
    "    [w/2+40, h-120],          # 右下角\n",
    "    [w/2-40, h-120]           # 左下角\n",
    "])\n",
    "\n",
    "# 计算透视变换矩阵\n",
    "matrix = cv2.getPerspectiveTransform(src_points, dst_points)\n",
    "np.save(\"perspective_matrix.npy\", matrix)\n",
    "print(matrix)"
   ]
  },
  {
   "cell_type": "code",
   "execution_count": 8,
   "id": "746939a1-0850-4164-9423-2e37dacb7b90",
   "metadata": {},
   "outputs": [],
   "source": [
    "# 应用透视变换\n",
    "birdseye = cv2.warpPerspective(image, matrix, (w, h))\n",
    "\n",
    "# 显示结果\n",
    "cv2.namedWindow(\"Original\", cv2.WINDOW_NORMAL)      # 允许调整窗口\n",
    "cv2.resizeWindow(\"Original\", 320, 240)              \n",
    "cv2.imshow(\"Original\", image)\n",
    "\n",
    "cv2.namedWindow(\"Birdseye View\", cv2.WINDOW_NORMAL)  # 允许调整窗口\n",
    "cv2.resizeWindow(\"Birdseye View\", 320, 240)         \n",
    "cv2.imshow(\"Birdseye View\", birdseye)\n",
    "\n",
    "cv2.waitKey(0)\n",
    "cv2.destroyAllWindows()"
   ]
  },
  {
   "cell_type": "code",
   "execution_count": null,
   "id": "619bafce-1bde-4422-9afa-adc22f292ad5",
   "metadata": {},
   "outputs": [],
   "source": []
  }
 ],
 "metadata": {
  "kernelspec": {
   "display_name": "Python 3 (ipykernel)",
   "language": "python",
   "name": "python3"
  },
  "language_info": {
   "codemirror_mode": {
    "name": "ipython",
    "version": 3
   },
   "file_extension": ".py",
   "mimetype": "text/x-python",
   "name": "python",
   "nbconvert_exporter": "python",
   "pygments_lexer": "ipython3",
   "version": "3.12.5"
  }
 },
 "nbformat": 4,
 "nbformat_minor": 5
}
